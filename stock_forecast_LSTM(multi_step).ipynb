{
  "nbformat": 4,
  "nbformat_minor": 0,
  "metadata": {
    "colab": {
      "name": "stock-forecast-LSTM(multi-step).ipynb",
      "provenance": [],
      "collapsed_sections": [],
      "authorship_tag": "ABX9TyNSkNuo9LtBYOIBWs7p90YZ",
      "include_colab_link": true
    },
    "kernelspec": {
      "name": "python3",
      "display_name": "Python 3"
    },
    "language_info": {
      "name": "python"
    }
  },
  "cells": [
    {
      "cell_type": "markdown",
      "metadata": {
        "id": "view-in-github",
        "colab_type": "text"
      },
      "source": [
        "<a href=\"https://colab.research.google.com/github/lsqroger/stock-forecast-TS-LSTM/blob/main/stock_forecast_LSTM(multi_step).ipynb\" target=\"_parent\"><img src=\"https://colab.research.google.com/assets/colab-badge.svg\" alt=\"Open In Colab\"/></a>"
      ]
    },
    {
      "cell_type": "code",
      "metadata": {
        "id": "AawPBMnjZ4Mm",
        "colab": {
          "base_uri": "https://localhost:8080/"
        },
        "outputId": "b633398c-d9f3-471f-de65-090b4f8609c5"
      },
      "source": [
        "pip install yfinance"
      ],
      "execution_count": 1,
      "outputs": [
        {
          "output_type": "stream",
          "name": "stdout",
          "text": [
            "Collecting yfinance\n",
            "  Downloading yfinance-0.1.63.tar.gz (26 kB)\n",
            "Requirement already satisfied: pandas>=0.24 in /usr/local/lib/python3.7/dist-packages (from yfinance) (1.1.5)\n",
            "Requirement already satisfied: numpy>=1.15 in /usr/local/lib/python3.7/dist-packages (from yfinance) (1.19.5)\n",
            "Requirement already satisfied: requests>=2.20 in /usr/local/lib/python3.7/dist-packages (from yfinance) (2.23.0)\n",
            "Requirement already satisfied: multitasking>=0.0.7 in /usr/local/lib/python3.7/dist-packages (from yfinance) (0.0.9)\n",
            "Collecting lxml>=4.5.1\n",
            "  Downloading lxml-4.6.3-cp37-cp37m-manylinux2014_x86_64.whl (6.3 MB)\n",
            "\u001b[K     |████████████████████████████████| 6.3 MB 7.8 MB/s \n",
            "\u001b[?25hRequirement already satisfied: python-dateutil>=2.7.3 in /usr/local/lib/python3.7/dist-packages (from pandas>=0.24->yfinance) (2.8.2)\n",
            "Requirement already satisfied: pytz>=2017.2 in /usr/local/lib/python3.7/dist-packages (from pandas>=0.24->yfinance) (2018.9)\n",
            "Requirement already satisfied: six>=1.5 in /usr/local/lib/python3.7/dist-packages (from python-dateutil>=2.7.3->pandas>=0.24->yfinance) (1.15.0)\n",
            "Requirement already satisfied: urllib3!=1.25.0,!=1.25.1,<1.26,>=1.21.1 in /usr/local/lib/python3.7/dist-packages (from requests>=2.20->yfinance) (1.24.3)\n",
            "Requirement already satisfied: idna<3,>=2.5 in /usr/local/lib/python3.7/dist-packages (from requests>=2.20->yfinance) (2.10)\n",
            "Requirement already satisfied: certifi>=2017.4.17 in /usr/local/lib/python3.7/dist-packages (from requests>=2.20->yfinance) (2021.5.30)\n",
            "Requirement already satisfied: chardet<4,>=3.0.2 in /usr/local/lib/python3.7/dist-packages (from requests>=2.20->yfinance) (3.0.4)\n",
            "Building wheels for collected packages: yfinance\n",
            "  Building wheel for yfinance (setup.py) ... \u001b[?25l\u001b[?25hdone\n",
            "  Created wheel for yfinance: filename=yfinance-0.1.63-py2.py3-none-any.whl size=23918 sha256=1dbdbb972cd9ed0c138d180d4d87495231eba08ad2cbca7002f259baa2150608\n",
            "  Stored in directory: /root/.cache/pip/wheels/fe/87/8b/7ec24486e001d3926537f5f7801f57a74d181be25b11157983\n",
            "Successfully built yfinance\n",
            "Installing collected packages: lxml, yfinance\n",
            "  Attempting uninstall: lxml\n",
            "    Found existing installation: lxml 4.2.6\n",
            "    Uninstalling lxml-4.2.6:\n",
            "      Successfully uninstalled lxml-4.2.6\n",
            "Successfully installed lxml-4.6.3 yfinance-0.1.63\n"
          ]
        }
      ]
    },
    {
      "cell_type": "code",
      "metadata": {
        "id": "6UzFddlOgiFB"
      },
      "source": [
        "import numpy as np\n",
        "import pandas as pd\n",
        "import matplotlib.pyplot as plt\n",
        "from statsmodels.tsa.seasonal import seasonal_decompose\n",
        "import yfinance as yf\n",
        "from sklearn.preprocessing import MinMaxScaler\n",
        "from sklearn.metrics import mean_squared_error as mse\n",
        "\n",
        "from tensorflow.keras.preprocessing.sequence import TimeseriesGenerator\n",
        "from tensorflow.keras.models import Sequential\n",
        "from tensorflow.keras.layers import Dense, Dropout, LSTM, BatchNormalization\n",
        "from tensorflow.keras.callbacks import ModelCheckpoint"
      ],
      "execution_count": 84,
      "outputs": []
    },
    {
      "cell_type": "code",
      "metadata": {
        "id": "4W8X729DaaLv"
      },
      "source": [
        "### Define parameters\n",
        "select_ticker = 'MSFT'\n",
        "select_date = '2021-10-11'\n",
        "hist_win = 2      # years\n",
        "\n",
        "# For LSTM:\n",
        "fcst_horizon = 7  # days\n",
        "time_steps = 14   # days\n",
        "n_features = 1 "
      ],
      "execution_count": 4,
      "outputs": []
    },
    {
      "cell_type": "code",
      "metadata": {
        "id": "M1LsjgGFanl3",
        "colab": {
          "base_uri": "https://localhost:8080/",
          "height": 234
        },
        "outputId": "bead43ff-f2bf-4242-85ec-2f67032e6ac9"
      },
      "source": [
        "### Retrieve Data of selected ticker and date\n",
        "stock = yf.Ticker(select_ticker)\n",
        "history = stock.history(period='Max')\n",
        "meta_cols = history.columns\n",
        "history.tail()"
      ],
      "execution_count": 5,
      "outputs": [
        {
          "output_type": "execute_result",
          "data": {
            "text/html": [
              "<div>\n",
              "<style scoped>\n",
              "    .dataframe tbody tr th:only-of-type {\n",
              "        vertical-align: middle;\n",
              "    }\n",
              "\n",
              "    .dataframe tbody tr th {\n",
              "        vertical-align: top;\n",
              "    }\n",
              "\n",
              "    .dataframe thead th {\n",
              "        text-align: right;\n",
              "    }\n",
              "</style>\n",
              "<table border=\"1\" class=\"dataframe\">\n",
              "  <thead>\n",
              "    <tr style=\"text-align: right;\">\n",
              "      <th></th>\n",
              "      <th>Open</th>\n",
              "      <th>High</th>\n",
              "      <th>Low</th>\n",
              "      <th>Close</th>\n",
              "      <th>Volume</th>\n",
              "      <th>Dividends</th>\n",
              "      <th>Stock Splits</th>\n",
              "    </tr>\n",
              "    <tr>\n",
              "      <th>Date</th>\n",
              "      <th></th>\n",
              "      <th></th>\n",
              "      <th></th>\n",
              "      <th></th>\n",
              "      <th></th>\n",
              "      <th></th>\n",
              "      <th></th>\n",
              "    </tr>\n",
              "  </thead>\n",
              "  <tbody>\n",
              "    <tr>\n",
              "      <th>2021-10-07</th>\n",
              "      <td>295.179993</td>\n",
              "      <td>296.640015</td>\n",
              "      <td>293.920013</td>\n",
              "      <td>294.850006</td>\n",
              "      <td>20430500</td>\n",
              "      <td>0.0</td>\n",
              "      <td>0.0</td>\n",
              "    </tr>\n",
              "    <tr>\n",
              "      <th>2021-10-08</th>\n",
              "      <td>296.220001</td>\n",
              "      <td>296.640015</td>\n",
              "      <td>293.760010</td>\n",
              "      <td>294.850006</td>\n",
              "      <td>17680300</td>\n",
              "      <td>0.0</td>\n",
              "      <td>0.0</td>\n",
              "    </tr>\n",
              "    <tr>\n",
              "      <th>2021-10-11</th>\n",
              "      <td>292.920013</td>\n",
              "      <td>297.970001</td>\n",
              "      <td>292.750000</td>\n",
              "      <td>294.230011</td>\n",
              "      <td>19298600</td>\n",
              "      <td>0.0</td>\n",
              "      <td>0.0</td>\n",
              "    </tr>\n",
              "    <tr>\n",
              "      <th>2021-10-12</th>\n",
              "      <td>295.339996</td>\n",
              "      <td>295.440002</td>\n",
              "      <td>292.350006</td>\n",
              "      <td>292.880005</td>\n",
              "      <td>17974100</td>\n",
              "      <td>0.0</td>\n",
              "      <td>0.0</td>\n",
              "    </tr>\n",
              "    <tr>\n",
              "      <th>2021-10-13</th>\n",
              "      <td>294.910004</td>\n",
              "      <td>297.279999</td>\n",
              "      <td>293.489990</td>\n",
              "      <td>296.309998</td>\n",
              "      <td>23416300</td>\n",
              "      <td>0.0</td>\n",
              "      <td>0.0</td>\n",
              "    </tr>\n",
              "  </tbody>\n",
              "</table>\n",
              "</div>"
            ],
            "text/plain": [
              "                  Open        High  ...  Dividends  Stock Splits\n",
              "Date                                ...                         \n",
              "2021-10-07  295.179993  296.640015  ...        0.0           0.0\n",
              "2021-10-08  296.220001  296.640015  ...        0.0           0.0\n",
              "2021-10-11  292.920013  297.970001  ...        0.0           0.0\n",
              "2021-10-12  295.339996  295.440002  ...        0.0           0.0\n",
              "2021-10-13  294.910004  297.279999  ...        0.0           0.0\n",
              "\n",
              "[5 rows x 7 columns]"
            ]
          },
          "metadata": {},
          "execution_count": 5
        }
      ]
    },
    {
      "cell_type": "code",
      "metadata": {
        "id": "g7LQgsmoco13",
        "colab": {
          "base_uri": "https://localhost:8080/",
          "height": 203
        },
        "outputId": "e5f54e6d-a094-4a5b-fe04-0e2fdb2469a9"
      },
      "source": [
        "### Pre-process and prepare train dataset\n",
        "# Filter based on seleceted date\n",
        "df_train_val = history.reset_index(drop=False).astype({'Date':'datetime64'})\n",
        "date_thres = pd.to_datetime(select_date) - pd.DateOffset(years=hist_win)\n",
        "df_train_val = df_train_val.loc[(df_train_val.Date >= date_thres)&(df_train_val.Date <= select_date)]\n",
        "\n",
        "# Normalization of Close Price time series\n",
        "scaler = MinMaxScaler()\n",
        "scaled_close = scaler.fit_transform(np.array(df_train_val.Close).reshape(-1, 1))\n",
        "df_train_val['scaled_close'] = scaled_close\n",
        "\n",
        "df_train_val.head()"
      ],
      "execution_count": 6,
      "outputs": [
        {
          "output_type": "execute_result",
          "data": {
            "text/html": [
              "<div>\n",
              "<style scoped>\n",
              "    .dataframe tbody tr th:only-of-type {\n",
              "        vertical-align: middle;\n",
              "    }\n",
              "\n",
              "    .dataframe tbody tr th {\n",
              "        vertical-align: top;\n",
              "    }\n",
              "\n",
              "    .dataframe thead th {\n",
              "        text-align: right;\n",
              "    }\n",
              "</style>\n",
              "<table border=\"1\" class=\"dataframe\">\n",
              "  <thead>\n",
              "    <tr style=\"text-align: right;\">\n",
              "      <th></th>\n",
              "      <th>Date</th>\n",
              "      <th>Open</th>\n",
              "      <th>High</th>\n",
              "      <th>Low</th>\n",
              "      <th>Close</th>\n",
              "      <th>Volume</th>\n",
              "      <th>Dividends</th>\n",
              "      <th>Stock Splits</th>\n",
              "      <th>scaled_close</th>\n",
              "    </tr>\n",
              "  </thead>\n",
              "  <tbody>\n",
              "    <tr>\n",
              "      <th>8465</th>\n",
              "      <td>2019-10-11</td>\n",
              "      <td>137.283068</td>\n",
              "      <td>138.174648</td>\n",
              "      <td>136.675626</td>\n",
              "      <td>136.851974</td>\n",
              "      <td>25446000</td>\n",
              "      <td>0.0</td>\n",
              "      <td>0.0</td>\n",
              "      <td>0.019558</td>\n",
              "    </tr>\n",
              "    <tr>\n",
              "      <th>8466</th>\n",
              "      <td>2019-10-14</td>\n",
              "      <td>136.861759</td>\n",
              "      <td>137.449602</td>\n",
              "      <td>136.695203</td>\n",
              "      <td>136.724594</td>\n",
              "      <td>13304300</td>\n",
              "      <td>0.0</td>\n",
              "      <td>0.0</td>\n",
              "      <td>0.018816</td>\n",
              "    </tr>\n",
              "    <tr>\n",
              "      <th>8467</th>\n",
              "      <td>2019-10-15</td>\n",
              "      <td>137.224252</td>\n",
              "      <td>138.919222</td>\n",
              "      <td>136.979314</td>\n",
              "      <td>138.703690</td>\n",
              "      <td>19695700</td>\n",
              "      <td>0.0</td>\n",
              "      <td>0.0</td>\n",
              "      <td>0.030341</td>\n",
              "    </tr>\n",
              "    <tr>\n",
              "      <th>8468</th>\n",
              "      <td>2019-10-16</td>\n",
              "      <td>137.939465</td>\n",
              "      <td>138.135428</td>\n",
              "      <td>136.704981</td>\n",
              "      <td>137.567169</td>\n",
              "      <td>20751600</td>\n",
              "      <td>0.0</td>\n",
              "      <td>0.0</td>\n",
              "      <td>0.023723</td>\n",
              "    </tr>\n",
              "    <tr>\n",
              "      <th>8469</th>\n",
              "      <td>2019-10-17</td>\n",
              "      <td>138.096255</td>\n",
              "      <td>138.556740</td>\n",
              "      <td>136.205338</td>\n",
              "      <td>136.861771</td>\n",
              "      <td>21460600</td>\n",
              "      <td>0.0</td>\n",
              "      <td>0.0</td>\n",
              "      <td>0.019615</td>\n",
              "    </tr>\n",
              "  </tbody>\n",
              "</table>\n",
              "</div>"
            ],
            "text/plain": [
              "           Date        Open        High  ...  Dividends  Stock Splits  scaled_close\n",
              "8465 2019-10-11  137.283068  138.174648  ...        0.0           0.0      0.019558\n",
              "8466 2019-10-14  136.861759  137.449602  ...        0.0           0.0      0.018816\n",
              "8467 2019-10-15  137.224252  138.919222  ...        0.0           0.0      0.030341\n",
              "8468 2019-10-16  137.939465  138.135428  ...        0.0           0.0      0.023723\n",
              "8469 2019-10-17  138.096255  138.556740  ...        0.0           0.0      0.019615\n",
              "\n",
              "[5 rows x 9 columns]"
            ]
          },
          "metadata": {},
          "execution_count": 6
        }
      ]
    },
    {
      "cell_type": "code",
      "metadata": {
        "id": "b4uGNiVml_YT"
      },
      "source": [
        "### Prepare output time series with n-day horizon\n",
        "df_train_val.sort_values('Date', ascending=True, inplace=True)\n",
        "\n",
        "output_df = pd.DataFrame()\n",
        "for i in range(df_train_val.shape[0]):\n",
        "  t_series = df_train_val.iloc[i:i+fcst_horizon,:]\n",
        "  t_min_date = t_series.Date.min()\n",
        "  t_series = list(t_series.scaled_close)\n",
        "  if len(t_series) < fcst_horizon:\n",
        "    break\n",
        "  t_df = pd.DataFrame({\n",
        "      'Date': t_min_date,\n",
        "      'output_ts': [t_series]\n",
        "  })\n",
        "  output_df = pd.concat([output_df, t_df], axis=0)\n",
        "\n",
        "df_train_val = df_train_val.merge(output_df, on='Date', how='left')"
      ],
      "execution_count": 7,
      "outputs": []
    },
    {
      "cell_type": "code",
      "metadata": {
        "colab": {
          "base_uri": "https://localhost:8080/",
          "height": 357
        },
        "id": "-fuT1Oa7mTZX",
        "outputId": "cf3759b3-cdf3-4691-f0ef-5cf194c06c54"
      },
      "source": [
        "df_train_val.dropna(subset=['output_ts'], axis=0, inplace=True)\n",
        "df_train_val.tail(10)"
      ],
      "execution_count": 11,
      "outputs": [
        {
          "output_type": "execute_result",
          "data": {
            "text/html": [
              "<div>\n",
              "<style scoped>\n",
              "    .dataframe tbody tr th:only-of-type {\n",
              "        vertical-align: middle;\n",
              "    }\n",
              "\n",
              "    .dataframe tbody tr th {\n",
              "        vertical-align: top;\n",
              "    }\n",
              "\n",
              "    .dataframe thead th {\n",
              "        text-align: right;\n",
              "    }\n",
              "</style>\n",
              "<table border=\"1\" class=\"dataframe\">\n",
              "  <thead>\n",
              "    <tr style=\"text-align: right;\">\n",
              "      <th></th>\n",
              "      <th>Date</th>\n",
              "      <th>Open</th>\n",
              "      <th>High</th>\n",
              "      <th>Low</th>\n",
              "      <th>Close</th>\n",
              "      <th>Volume</th>\n",
              "      <th>Dividends</th>\n",
              "      <th>Stock Splits</th>\n",
              "      <th>scaled_close</th>\n",
              "      <th>output_ts</th>\n",
              "    </tr>\n",
              "  </thead>\n",
              "  <tbody>\n",
              "    <tr>\n",
              "      <th>488</th>\n",
              "      <td>2021-09-20</td>\n",
              "      <td>296.329987</td>\n",
              "      <td>298.720001</td>\n",
              "      <td>289.519989</td>\n",
              "      <td>294.299988</td>\n",
              "      <td>38278700</td>\n",
              "      <td>0.0</td>\n",
              "      <td>0.0</td>\n",
              "      <td>0.936411</td>\n",
              "      <td>[0.9364105090320742, 0.9393221121811337, 0.961...</td>\n",
              "    </tr>\n",
              "    <tr>\n",
              "      <th>489</th>\n",
              "      <td>2021-09-21</td>\n",
              "      <td>295.690002</td>\n",
              "      <td>297.540009</td>\n",
              "      <td>294.070007</td>\n",
              "      <td>294.799988</td>\n",
              "      <td>22364100</td>\n",
              "      <td>0.0</td>\n",
              "      <td>0.0</td>\n",
              "      <td>0.939322</td>\n",
              "      <td>[0.9393221121811337, 0.961333824879617, 0.9670...</td>\n",
              "    </tr>\n",
              "    <tr>\n",
              "      <th>490</th>\n",
              "      <td>2021-09-22</td>\n",
              "      <td>296.730011</td>\n",
              "      <td>300.220001</td>\n",
              "      <td>294.510010</td>\n",
              "      <td>298.579987</td>\n",
              "      <td>26626300</td>\n",
              "      <td>0.0</td>\n",
              "      <td>0.0</td>\n",
              "      <td>0.961334</td>\n",
              "      <td>[0.961333824879617, 0.9670406310274287, 0.9658...</td>\n",
              "    </tr>\n",
              "    <tr>\n",
              "      <th>491</th>\n",
              "      <td>2021-09-23</td>\n",
              "      <td>298.850006</td>\n",
              "      <td>300.899994</td>\n",
              "      <td>297.529999</td>\n",
              "      <td>299.559998</td>\n",
              "      <td>18604600</td>\n",
              "      <td>0.0</td>\n",
              "      <td>0.0</td>\n",
              "      <td>0.967041</td>\n",
              "      <td>[0.9670406310274287, 0.9658178074636665, 0.935...</td>\n",
              "    </tr>\n",
              "    <tr>\n",
              "      <th>492</th>\n",
              "      <td>2021-09-24</td>\n",
              "      <td>298.230011</td>\n",
              "      <td>299.799988</td>\n",
              "      <td>296.929993</td>\n",
              "      <td>299.350006</td>\n",
              "      <td>14999000</td>\n",
              "      <td>0.0</td>\n",
              "      <td>0.0</td>\n",
              "      <td>0.965818</td>\n",
              "      <td>[0.9658178074636665, 0.9356536414898473, 0.873...</td>\n",
              "    </tr>\n",
              "    <tr>\n",
              "      <th>493</th>\n",
              "      <td>2021-09-27</td>\n",
              "      <td>296.140015</td>\n",
              "      <td>296.470001</td>\n",
              "      <td>292.940002</td>\n",
              "      <td>294.170013</td>\n",
              "      <td>23571700</td>\n",
              "      <td>0.0</td>\n",
              "      <td>0.0</td>\n",
              "      <td>0.935654</td>\n",
              "      <td>[0.9356536414898473, 0.8736363522467585, 0.876...</td>\n",
              "    </tr>\n",
              "    <tr>\n",
              "      <th>494</th>\n",
              "      <td>2021-09-28</td>\n",
              "      <td>289.799988</td>\n",
              "      <td>290.779999</td>\n",
              "      <td>282.750000</td>\n",
              "      <td>283.519989</td>\n",
              "      <td>43186200</td>\n",
              "      <td>0.0</td>\n",
              "      <td>0.0</td>\n",
              "      <td>0.873636</td>\n",
              "      <td>[0.8736363522467585, 0.8764315552455106, 0.864...</td>\n",
              "    </tr>\n",
              "    <tr>\n",
              "      <th>495</th>\n",
              "      <td>2021-09-29</td>\n",
              "      <td>285.100006</td>\n",
              "      <td>286.769989</td>\n",
              "      <td>283.010010</td>\n",
              "      <td>284.000000</td>\n",
              "      <td>26353700</td>\n",
              "      <td>0.0</td>\n",
              "      <td>0.0</td>\n",
              "      <td>0.876432</td>\n",
              "      <td>[0.8764315552455106, 0.8643193643378906, 0.906...</td>\n",
              "    </tr>\n",
              "    <tr>\n",
              "      <th>496</th>\n",
              "      <td>2021-09-30</td>\n",
              "      <td>285.709991</td>\n",
              "      <td>287.829987</td>\n",
              "      <td>281.619995</td>\n",
              "      <td>281.920013</td>\n",
              "      <td>32325800</td>\n",
              "      <td>0.0</td>\n",
              "      <td>0.0</td>\n",
              "      <td>0.864319</td>\n",
              "      <td>[0.8643193643378906, 0.9061299429079477, 0.871...</td>\n",
              "    </tr>\n",
              "    <tr>\n",
              "      <th>497</th>\n",
              "      <td>2021-10-01</td>\n",
              "      <td>282.119995</td>\n",
              "      <td>289.980011</td>\n",
              "      <td>281.290009</td>\n",
              "      <td>289.100006</td>\n",
              "      <td>30086300</td>\n",
              "      <td>0.0</td>\n",
              "      <td>0.0</td>\n",
              "      <td>0.906130</td>\n",
              "      <td>[0.9061299429079477, 0.8712488163393113, 0.904...</td>\n",
              "    </tr>\n",
              "  </tbody>\n",
              "</table>\n",
              "</div>"
            ],
            "text/plain": [
              "          Date  ...                                          output_ts\n",
              "488 2021-09-20  ...  [0.9364105090320742, 0.9393221121811337, 0.961...\n",
              "489 2021-09-21  ...  [0.9393221121811337, 0.961333824879617, 0.9670...\n",
              "490 2021-09-22  ...  [0.961333824879617, 0.9670406310274287, 0.9658...\n",
              "491 2021-09-23  ...  [0.9670406310274287, 0.9658178074636665, 0.935...\n",
              "492 2021-09-24  ...  [0.9658178074636665, 0.9356536414898473, 0.873...\n",
              "493 2021-09-27  ...  [0.9356536414898473, 0.8736363522467585, 0.876...\n",
              "494 2021-09-28  ...  [0.8736363522467585, 0.8764315552455106, 0.864...\n",
              "495 2021-09-29  ...  [0.8764315552455106, 0.8643193643378906, 0.906...\n",
              "496 2021-09-30  ...  [0.8643193643378906, 0.9061299429079477, 0.871...\n",
              "497 2021-10-01  ...  [0.9061299429079477, 0.8712488163393113, 0.904...\n",
              "\n",
              "[10 rows x 10 columns]"
            ]
          },
          "metadata": {},
          "execution_count": 11
        }
      ]
    },
    {
      "cell_type": "code",
      "metadata": {
        "id": "JYDaVGS7Ebz2"
      },
      "source": [
        "### Build LSTM ts input and output data for multi-step forecasting\n",
        "input_data = np.array(df_train_val.scaled_close).reshape(len(df_train_val.scaled_close),n_features)\n",
        "#output_data = np.array(df_train_val.output_ts.apply(lambda x: np.array(x))).reshape(len(df_train_val.output_ts),n_features)\n",
        "output_data = np.stack(df_train_val.output_ts)\n",
        "\n",
        "ts_generator = TimeseriesGenerator(input_data, output_data, length=time_steps, batch_size=1)"
      ],
      "execution_count": 49,
      "outputs": []
    },
    {
      "cell_type": "code",
      "metadata": {
        "colab": {
          "base_uri": "https://localhost:8080/"
        },
        "id": "Qv5JarQ5KZvU",
        "outputId": "b29dbecf-99f8-4013-a978-b5cf2df46a02"
      },
      "source": [
        "X,y = ts_generator[0]\n",
        "print(X[0])\n",
        "print(y[0])\n",
        "print(f'X shape is {X.shape}')\n",
        "print(f'y shape is {y.shape}')"
      ],
      "execution_count": 62,
      "outputs": [
        {
          "output_type": "stream",
          "name": "stdout",
          "text": [
            "[[0.01955825]\n",
            " [0.01881648]\n",
            " [0.03034117]\n",
            " [0.02372297]\n",
            " [0.01961529]\n",
            " [0.006607  ]\n",
            " [0.01242647]\n",
            " [0.00067352]\n",
            " [0.00563732]\n",
            " [0.0210415 ]\n",
            " [0.02554868]\n",
            " [0.04528899]\n",
            " [0.03752981]\n",
            " [0.04768532]]\n",
            "[0.0406105  0.04260761 0.04734305 0.04682947 0.04454731 0.0456883\n",
            " 0.05538755]\n",
            "X shape is (1, 14, 1)\n",
            "y shape is (1, 7)\n"
          ]
        }
      ]
    },
    {
      "cell_type": "code",
      "metadata": {
        "colab": {
          "base_uri": "https://localhost:8080/"
        },
        "id": "ca2_wVM6KgUJ",
        "outputId": "d044f7a2-9475-4cc7-b339-48ba8a9c44c9"
      },
      "source": [
        "### Build LSTM Model\n",
        "model = Sequential()\n",
        "model.add(LSTM(100, activation='relu', input_shape=(time_steps, n_features)))\n",
        "model.add(Dense(fcst_horizon)) \n",
        "model.compile(optimizer='adam', loss='mse')\n",
        "\n",
        "model.summary()"
      ],
      "execution_count": 63,
      "outputs": [
        {
          "output_type": "stream",
          "name": "stdout",
          "text": [
            "Model: \"sequential_4\"\n",
            "_________________________________________________________________\n",
            "Layer (type)                 Output Shape              Param #   \n",
            "=================================================================\n",
            "lstm_4 (LSTM)                (None, 100)               40800     \n",
            "_________________________________________________________________\n",
            "dense_4 (Dense)              (None, 7)                 707       \n",
            "=================================================================\n",
            "Total params: 41,507\n",
            "Trainable params: 41,507\n",
            "Non-trainable params: 0\n",
            "_________________________________________________________________\n"
          ]
        }
      ]
    },
    {
      "cell_type": "code",
      "metadata": {
        "colab": {
          "base_uri": "https://localhost:8080/"
        },
        "id": "7u-UtL_iKpV7",
        "outputId": "eaf44349-f58a-4271-afb5-19875de7151d"
      },
      "source": [
        "model.fit(ts_generator, epochs=50)"
      ],
      "execution_count": 64,
      "outputs": [
        {
          "output_type": "stream",
          "name": "stdout",
          "text": [
            "Epoch 1/50\n",
            "484/484 [==============================] - 4s 7ms/step - loss: 0.0137\n",
            "Epoch 2/50\n",
            "484/484 [==============================] - 3s 7ms/step - loss: 0.0036\n",
            "Epoch 3/50\n",
            "484/484 [==============================] - 3s 7ms/step - loss: 0.0033\n",
            "Epoch 4/50\n",
            "484/484 [==============================] - 3s 7ms/step - loss: 0.0032\n",
            "Epoch 5/50\n",
            "484/484 [==============================] - 3s 7ms/step - loss: 0.0029\n",
            "Epoch 6/50\n",
            "484/484 [==============================] - 3s 7ms/step - loss: 0.0026\n",
            "Epoch 7/50\n",
            "484/484 [==============================] - 3s 6ms/step - loss: 0.0024\n",
            "Epoch 8/50\n",
            "484/484 [==============================] - 3s 7ms/step - loss: 0.0023\n",
            "Epoch 9/50\n",
            "484/484 [==============================] - 3s 7ms/step - loss: 0.0021\n",
            "Epoch 10/50\n",
            "484/484 [==============================] - 3s 7ms/step - loss: 0.0020\n",
            "Epoch 11/50\n",
            "484/484 [==============================] - 3s 7ms/step - loss: 0.0021\n",
            "Epoch 12/50\n",
            "484/484 [==============================] - 3s 7ms/step - loss: 0.0020\n",
            "Epoch 13/50\n",
            "484/484 [==============================] - 3s 7ms/step - loss: 0.0019\n",
            "Epoch 14/50\n",
            "484/484 [==============================] - 3s 7ms/step - loss: 0.0022\n",
            "Epoch 15/50\n",
            "484/484 [==============================] - 3s 7ms/step - loss: 0.0019\n",
            "Epoch 16/50\n",
            "484/484 [==============================] - 3s 7ms/step - loss: 0.0019\n",
            "Epoch 17/50\n",
            "484/484 [==============================] - 3s 7ms/step - loss: 0.0019\n",
            "Epoch 18/50\n",
            "484/484 [==============================] - 3s 7ms/step - loss: 0.0017\n",
            "Epoch 19/50\n",
            "484/484 [==============================] - 4s 7ms/step - loss: 0.0017\n",
            "Epoch 20/50\n",
            "484/484 [==============================] - 3s 7ms/step - loss: 0.0021\n",
            "Epoch 21/50\n",
            "484/484 [==============================] - 3s 7ms/step - loss: 0.0017\n",
            "Epoch 22/50\n",
            "484/484 [==============================] - 3s 7ms/step - loss: 0.0018\n",
            "Epoch 23/50\n",
            "484/484 [==============================] - 3s 7ms/step - loss: 0.0017\n",
            "Epoch 24/50\n",
            "484/484 [==============================] - 3s 7ms/step - loss: 0.0017\n",
            "Epoch 25/50\n",
            "484/484 [==============================] - 3s 7ms/step - loss: 0.0017\n",
            "Epoch 26/50\n",
            "484/484 [==============================] - 3s 7ms/step - loss: 0.0017\n",
            "Epoch 27/50\n",
            "484/484 [==============================] - 3s 7ms/step - loss: 0.0017\n",
            "Epoch 28/50\n",
            "484/484 [==============================] - 3s 7ms/step - loss: 0.0016\n",
            "Epoch 29/50\n",
            "484/484 [==============================] - 3s 7ms/step - loss: 0.0016\n",
            "Epoch 30/50\n",
            "484/484 [==============================] - 3s 7ms/step - loss: 0.0016\n",
            "Epoch 31/50\n",
            "484/484 [==============================] - 3s 7ms/step - loss: 0.0016\n",
            "Epoch 32/50\n",
            "484/484 [==============================] - 3s 7ms/step - loss: 0.0016\n",
            "Epoch 33/50\n",
            "484/484 [==============================] - 3s 7ms/step - loss: 0.0016\n",
            "Epoch 34/50\n",
            "484/484 [==============================] - 3s 7ms/step - loss: 0.0015\n",
            "Epoch 35/50\n",
            "484/484 [==============================] - 3s 7ms/step - loss: 0.0015\n",
            "Epoch 36/50\n",
            "484/484 [==============================] - 3s 7ms/step - loss: 0.0015\n",
            "Epoch 37/50\n",
            "484/484 [==============================] - 3s 7ms/step - loss: 0.0015\n",
            "Epoch 38/50\n",
            "484/484 [==============================] - 3s 7ms/step - loss: 0.0015\n",
            "Epoch 39/50\n",
            "484/484 [==============================] - 3s 7ms/step - loss: 0.0015\n",
            "Epoch 40/50\n",
            "484/484 [==============================] - 3s 6ms/step - loss: 0.0015\n",
            "Epoch 41/50\n",
            "484/484 [==============================] - 3s 6ms/step - loss: 0.0015\n",
            "Epoch 42/50\n",
            "484/484 [==============================] - 3s 7ms/step - loss: 0.0015\n",
            "Epoch 43/50\n",
            "484/484 [==============================] - 3s 7ms/step - loss: 0.0015\n",
            "Epoch 44/50\n",
            "484/484 [==============================] - 3s 7ms/step - loss: 0.0014\n",
            "Epoch 45/50\n",
            "484/484 [==============================] - 3s 6ms/step - loss: 0.0014\n",
            "Epoch 46/50\n",
            "484/484 [==============================] - 3s 6ms/step - loss: 0.0015\n",
            "Epoch 47/50\n",
            "484/484 [==============================] - 3s 7ms/step - loss: 0.0015\n",
            "Epoch 48/50\n",
            "484/484 [==============================] - 3s 7ms/step - loss: 0.0014\n",
            "Epoch 49/50\n",
            "484/484 [==============================] - 3s 7ms/step - loss: 0.0015\n",
            "Epoch 50/50\n",
            "484/484 [==============================] - 3s 7ms/step - loss: 0.0014\n"
          ]
        },
        {
          "output_type": "execute_result",
          "data": {
            "text/plain": [
              "<keras.callbacks.History at 0x7f4aee468450>"
            ]
          },
          "metadata": {},
          "execution_count": 64
        }
      ]
    },
    {
      "cell_type": "code",
      "metadata": {
        "colab": {
          "base_uri": "https://localhost:8080/",
          "height": 500
        },
        "id": "D4emeKZzOnPb",
        "outputId": "cf3ebb48-7fae-4453-f8d2-3e68df085a98"
      },
      "source": [
        "loss_per_epoch = model.history.history['loss']\n",
        "plt.figure(figsize=(12,8))\n",
        "plt.plot(range(len(loss_per_epoch)), loss_per_epoch)"
      ],
      "execution_count": 59,
      "outputs": [
        {
          "output_type": "execute_result",
          "data": {
            "text/plain": [
              "[<matplotlib.lines.Line2D at 0x7f4aee5452d0>]"
            ]
          },
          "metadata": {},
          "execution_count": 59
        },
        {
          "output_type": "display_data",
          "data": {
            "image/png": "[encoded data removed]",
            "text/plain": [
              "<Figure size 864x576 with 1 Axes>"
            ]
          },
          "metadata": {
            "needs_background": "light"
          }
        }
      ]
    },
    {
      "cell_type": "code",
      "metadata": {
        "id": "9GCCJ2AFVoHA",
        "colab": {
          "base_uri": "https://localhost:8080/"
        },
        "outputId": "ef3a9b78-237e-4039-9605-c42cda88745f"
      },
      "source": [
        "### Test\n",
        "last_train_batch = input_data[-(time_steps):]\n",
        "print(last_train_batch)\n",
        "last_train_batch = last_train_batch.reshape(1,time_steps,n_features)"
      ],
      "execution_count": 77,
      "outputs": [
        {
          "output_type": "stream",
          "name": "stdout",
          "text": [
            "[[0.96838003]\n",
            " [0.99767075]\n",
            " [1.        ]\n",
            " [0.96884581]\n",
            " [0.93641051]\n",
            " [0.93932211]\n",
            " [0.96133382]\n",
            " [0.96704063]\n",
            " [0.96581781]\n",
            " [0.93565364]\n",
            " [0.87363635]\n",
            " [0.87643156]\n",
            " [0.86431936]\n",
            " [0.90612994]]\n"
          ]
        }
      ]
    },
    {
      "cell_type": "code",
      "metadata": {
        "colab": {
          "base_uri": "https://localhost:8080/"
        },
        "id": "iZBopiQJWXSU",
        "outputId": "84f6e0fa-d99c-4829-a883-20b2c6426377"
      },
      "source": [
        "preds = model.predict(last_train_batch)\n",
        "preds = scaler.inverse_transform(preds)\n",
        "preds"
      ],
      "execution_count": 92,
      "outputs": [
        {
          "output_type": "execute_result",
          "data": {
            "text/plain": [
              "array([[287.59085, 285.92087, 287.09622, 286.38403, 285.6716 , 285.73828,\n",
              "        285.95404]], dtype=float32)"
            ]
          },
          "metadata": {},
          "execution_count": 92
        }
      ]
    },
    {
      "cell_type": "code",
      "metadata": {
        "colab": {
          "base_uri": "https://localhost:8080/"
        },
        "id": "kezEqz72WYmt",
        "outputId": "faf7a6bd-eec7-4ea6-dcd5-d243ed9de40a"
      },
      "source": [
        "last_batch_output = output_data[-1]\n",
        "last_batch_output = scaler.inverse_transform(last_batch_output.reshape(-1,1))\n",
        "last_batch_output"
      ],
      "execution_count": 83,
      "outputs": [
        {
          "output_type": "execute_result",
          "data": {
            "text/plain": [
              "array([[289.1000061 ],\n",
              "       [283.10998535],\n",
              "       [288.76000977],\n",
              "       [293.10998535],\n",
              "       [294.8500061 ],\n",
              "       [294.8500061 ],\n",
              "       [294.23001099]])"
            ]
          },
          "metadata": {},
          "execution_count": 83
        }
      ]
    },
    {
      "cell_type": "code",
      "metadata": {
        "id": "_6gOh6NQWtnU",
        "colab": {
          "base_uri": "https://localhost:8080/",
          "height": 517
        },
        "outputId": "4895dc0a-c60b-48c1-d774-13fe97bad96d"
      },
      "source": [
        "print(f'RMSE of last train batch is {mse(last_batch_output.flatten(), preds.flatten(), squared=False)}')\n",
        "\n",
        "plt.figure(figsize=(12,8))\n",
        "plt.plot(range(fcst_horizon), preds.flatten(), label='prediction')\n",
        "plt.plot(range(fcst_horizon), last_batch_output.flatten(), label='actual')\n",
        "plt.legend(['prediction','actual'])"
      ],
      "execution_count": 91,
      "outputs": [
        {
          "output_type": "stream",
          "name": "stdout",
          "text": [
            "RMSE of last train batch is 6.4801188471127515\n"
          ]
        },
        {
          "output_type": "execute_result",
          "data": {
            "text/plain": [
              "<matplotlib.legend.Legend at 0x7f4ae96cb4d0>"
            ]
          },
          "metadata": {},
          "execution_count": 91
        },
        {
          "output_type": "display_data",
          "data": {
            "image/png": "[encoded data removed]",
            "text/plain": [
              "<Figure size 864x576 with 1 Axes>"
            ]
          },
          "metadata": {
            "needs_background": "light"
          }
        }
      ]
    },
    {
      "cell_type": "code",
      "metadata": {
        "id": "OlApsfx6xeDR"
      },
      "source": [
        ""
      ],
      "execution_count": null,
      "outputs": []
    }
  ]
}